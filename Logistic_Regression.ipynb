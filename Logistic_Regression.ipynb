{
  "nbformat": 4,
  "nbformat_minor": 0,
  "metadata": {
    "colab": {
      "provenance": [],
      "authorship_tag": "ABX9TyO2NNzwCMwC6JYuc98HhryD",
      "include_colab_link": true
    },
    "kernelspec": {
      "name": "python3",
      "display_name": "Python 3"
    },
    "language_info": {
      "name": "python"
    }
  },
  "cells": [
    {
      "cell_type": "markdown",
      "metadata": {
        "id": "view-in-github",
        "colab_type": "text"
      },
      "source": [
        "<a href=\"https://colab.research.google.com/github/Auzek2002/Logistic_Regression_Implementation/blob/main/Logistic_Regression.ipynb\" target=\"_parent\"><img src=\"https://colab.research.google.com/assets/colab-badge.svg\" alt=\"Open In Colab\"/></a>"
      ]
    },
    {
      "cell_type": "markdown",
      "source": [
        "Importing Libs:"
      ],
      "metadata": {
        "id": "t8RWpnkb3BUF"
      }
    },
    {
      "cell_type": "code",
      "source": [
        "import numpy as np\n",
        "import matplotlib.pyplot as plt\n",
        "import math,copy"
      ],
      "metadata": {
        "id": "7-MHVXIA3DJO"
      },
      "execution_count": 63,
      "outputs": []
    },
    {
      "cell_type": "markdown",
      "source": [
        "Example DataSet:"
      ],
      "metadata": {
        "id": "BVB-gI_13REt"
      }
    },
    {
      "cell_type": "code",
      "source": [
        "X = np.array([[0.5, 1.5], [1,1], [1.5, 0.5], [3, 0.5], [2, 2], [1, 2.5]])\n",
        "y = np.array([0, 0, 0, 1, 1, 1])"
      ],
      "metadata": {
        "id": "go8idErU3Tpa"
      },
      "execution_count": 64,
      "outputs": []
    },
    {
      "cell_type": "markdown",
      "source": [
        "Sigmoid Function (For The Model):\n",
        "\n",
        "> g(z) = 1/(1 + e^(-z))\n",
        "\n",
        "\n",
        "\n"
      ],
      "metadata": {
        "id": "i8Tijqc-3Xoz"
      }
    },
    {
      "cell_type": "code",
      "source": [
        "def sigmoid(z):\n",
        "  g = 1/(1+np.exp(-z))\n",
        "  return g"
      ],
      "metadata": {
        "id": "JzeCU6WX3bwK"
      },
      "execution_count": 65,
      "outputs": []
    },
    {
      "cell_type": "markdown",
      "source": [
        "Computing Cost:"
      ],
      "metadata": {
        "id": "eu9J3Fbu3ir3"
      }
    },
    {
      "cell_type": "code",
      "source": [
        "def compute_cost(x,y,w,b):\n",
        "  m = x.shape[0]\n",
        "  cost = 0.0\n",
        "  for i in range (m):\n",
        "    f_wb_i = sigmoid(np.dot(w,x[i])+b)\n",
        "    cost += -y[i]*np.log(f_wb_i) - (1-y[i])*np.log(1-f_wb_i)\n",
        "  cost = cost/m\n",
        "  return cost"
      ],
      "metadata": {
        "id": "qoq25dGJ3lXB"
      },
      "execution_count": 66,
      "outputs": []
    },
    {
      "cell_type": "markdown",
      "source": [
        "Computing Gradients:"
      ],
      "metadata": {
        "id": "RW5WRobk4T5_"
      }
    },
    {
      "cell_type": "code",
      "source": [
        "def compute_gradients(x,y,w,b):\n",
        "  m,n = x.shape\n",
        "  dj_dw = np.zeros((n,))\n",
        "  dj_db = 0.0\n",
        "\n",
        "  for i in range (m):\n",
        "    f_wb_i = sigmoid(np.dot(w,x[i])+b)\n",
        "    err = f_wb_i - y[i]\n",
        "    for j in range (n):\n",
        "      dj_dw[j] += err * x[i,j]\n",
        "    dj_db += err\n",
        "  dj_dw = dj_dw/m\n",
        "  dj_db = dj_db/m\n",
        "  return dj_dw,dj_db"
      ],
      "metadata": {
        "id": "mZTYfsEx4XwC"
      },
      "execution_count": 67,
      "outputs": []
    },
    {
      "cell_type": "markdown",
      "source": [
        "Computing Gradient Descent:"
      ],
      "metadata": {
        "id": "dm9sFQGpXO2T"
      }
    },
    {
      "cell_type": "code",
      "source": [
        "def gradient_descent(x,y,w_in,b_in,alpha,iters,cost_function,gradient_function):\n",
        "  j_history= []\n",
        "  w =copy.deepcopy(w_in)\n",
        "  b=b_in\n",
        "\n",
        "  for i in range (iters):\n",
        "    dj_dw , dj_db = gradient_function(x,y,w,b)\n",
        "    w = w - alpha*dj_dw\n",
        "    b = b - alpha*dj_db\n",
        "\n",
        "    if i < 100000:\n",
        "      j_history.append(cost_function(x,y,w,b))\n",
        "    if i % math.ceil(iters/10) == 0:\n",
        "      print(f\"Iterations: {i:4d}, cost: {j_history[-1]}, w: {w}, b: {b}, dj_dw: {dj_dw}, dj_db: {dj_db}\")\n",
        "\n",
        "  return w,b,j_history"
      ],
      "metadata": {
        "id": "nE1MNb0zXSYC"
      },
      "execution_count": 68,
      "outputs": []
    },
    {
      "cell_type": "code",
      "source": [
        "#Example Training set:\n",
        "#X = np.array([[0.5, 1.5], [1,1], [1.5, 0.5], [3, 0.5], [2, 2], [1, 2.5]])\n",
        "#y = np.array([0, 0, 0, 1, 1, 1])\n",
        "np.printoptions(precision=2)\n",
        "m,n=X.shape\n",
        "w_init = np.zeros((n,))\n",
        "b_init=0\n",
        "alpha = 1\n",
        "iterations = 10000\n",
        "w_final,b_final,j_hist = gradient_descent(X[0:5,:],y[0:5],w_init,b_init,alpha,iterations,compute_cost,compute_gradients)\n",
        "print(f\"Final value of W: {w_final}, Final value of B: {b_final}\")"
      ],
      "metadata": {
        "colab": {
          "base_uri": "https://localhost:8080/"
        },
        "id": "-WNR8w11YYDd",
        "outputId": "c5a7f3ff-5091-4dfc-8b37-defd198992e6"
      },
      "execution_count": 69,
      "outputs": [
        {
          "output_type": "stream",
          "name": "stdout",
          "text": [
            "Iterations:    0, cost: 0.648201635351109, w: [ 0.2  -0.05], b: -0.1, dj_dw: [-0.2   0.05], dj_db: 0.1\n",
            "Iterations: 1000, cost: 0.013198043147497224, w: [5.43877849 3.38577047], b: -13.422021420288377, dj_dw: [-0.0012397  -0.00095244], dj_db: 0.003297175267117085\n",
            "Iterations: 2000, cost: 0.006579714260478339, w: [6.2979749  4.04003593], b: -15.700661971402441, dj_dw: [-0.00062016 -0.00046851], dj_db: 0.001640643044847416\n",
            "Iterations: 3000, cost: 0.004387645068089623, w: [6.80092981 4.41850306], b: -17.029685150403804, dj_dw: [-0.00041373 -0.00031015], dj_db: 0.0010920551359124165\n",
            "Iterations: 4000, cost: 0.003293861226724011, w: [7.15808513 4.68558411], b: -17.971762238658485, dj_dw: [-0.00031056 -0.00023168], dj_db: 0.0008186183141595454\n",
            "Iterations: 5000, cost: 0.002638001954433484, w: [7.43536255 4.8920643 ], b: -18.702308743462822, dj_dw: [-0.00024866 -0.00018484], dj_db: 0.0006548342807915907\n",
            "Iterations: 6000, cost: 0.0022007719834477887, w: [7.66210979 5.06038676], b: -19.29922997715896, dj_dw: [-0.00020738 -0.00015374], dj_db: 0.0005457526331394997\n",
            "Iterations: 7000, cost: 0.00188838127643466, w: [7.85397758 5.20246126], b: -19.80400706895784, dj_dw: [-0.00017789 -0.00013158], dj_db: 0.0004678832283944766\n",
            "Iterations: 8000, cost: 0.0016539911133784397, w: [8.02030724 5.32537026], b: -20.241370573815193, dj_dw: [-0.00015577 -0.000115  ], dj_db: 0.00040950174000407727\n",
            "Iterations: 9000, cost: 0.001471598339497059, w: [8.16712436 5.433669  ], b: -20.62725891078349, dj_dw: [-0.00013856 -0.00010212], dj_db: 0.00036410296380612084\n",
            "Final value of W: [8.29841889 5.53036883], Final value of B: -20.972220548837768\n"
          ]
        }
      ]
    },
    {
      "cell_type": "markdown",
      "source": [
        "Testing the model:"
      ],
      "metadata": {
        "id": "p_xBFbbJafRE"
      }
    },
    {
      "cell_type": "code",
      "source": [
        "y_pred = sigmoid(np.dot(w_final,X[5])+b_final)\n",
        "print(f\"Prediction: {round(y_pred)} VS Actual: {y[5]}\")\n"
      ],
      "metadata": {
        "colab": {
          "base_uri": "https://localhost:8080/"
        },
        "id": "afejxsweahpg",
        "outputId": "75938f2b-a2e8-414e-91ee-d94950f43993"
      },
      "execution_count": 70,
      "outputs": [
        {
          "output_type": "stream",
          "name": "stdout",
          "text": [
            "Prediction: 1 VS Actual: 1\n"
          ]
        }
      ]
    }
  ]
}